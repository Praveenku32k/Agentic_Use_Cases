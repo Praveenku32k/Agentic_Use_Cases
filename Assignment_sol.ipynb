{
  "nbformat": 4,
  "nbformat_minor": 0,
  "metadata": {
    "colab": {
      "provenance": [],
      "gpuType": "T4",
      "authorship_tag": "ABX9TyNV+edhbs7NUlczjSCCvlox",
      "include_colab_link": true
    },
    "kernelspec": {
      "name": "python3",
      "display_name": "Python 3"
    },
    "language_info": {
      "name": "python"
    },
    "accelerator": "GPU"
  },
  "cells": [
    {
      "cell_type": "markdown",
      "metadata": {
        "id": "view-in-github",
        "colab_type": "text"
      },
      "source": [
        "<a href=\"https://colab.research.google.com/github/Praveenku32k/Agentic_Use_Cases/blob/main/Assignment_sol.ipynb\" target=\"_parent\"><img src=\"https://colab.research.google.com/assets/colab-badge.svg\" alt=\"Open In Colab\"/></a>"
      ]
    },
    {
      "cell_type": "markdown",
      "source": [],
      "metadata": {
        "id": "f0jGRVz875vQ"
      }
    },
    {
      "cell_type": "markdown",
      "source": [
        "#code"
      ],
      "metadata": {
        "id": "70z7LXg674gm"
      }
    },
    {
      "cell_type": "code",
      "source": [
        "# !pip install langchain openai pypdf tiktoken\n",
        "\n",
        "import os\n",
        "import openai\n",
        "import langchain\n",
        "from langchain.document_loaders import PyPDFLoader\n",
        "from langchain.text_splitter import RecursiveCharacterTextSplitter\n",
        "from langchain.chat_models import ChatOpenAI\n",
        "from langchain.chains.summarize import load_summarize_chain\n",
        "\n",
        "# Set your OpenAI API Key\n",
        "os.environ[\"OPENAI_API_KEY\"] = \"Your API KEY HERE\"\n",
        "\n",
        "# Load PDF and Extract Text\n",
        "def extract_text_from_pdf(pdf_path):\n",
        "    loader = PyPDFLoader(pdf_path)\n",
        "    pages = loader.load()\n",
        "    text = \"\\n\".join([page.page_content for page in pages])\n",
        "    return text\n",
        "\n",
        "# Summarization Function using LangChain\n",
        "def summarize_text(text):\n",
        "    text_splitter = RecursiveCharacterTextSplitter(chunk_size=2000, chunk_overlap=200)\n",
        "    docs = text_splitter.create_documents([text])\n",
        "\n",
        "    llm = ChatOpenAI(model_name=\"gpt-4\", temperature=0.3)\n",
        "    chain = load_summarize_chain(llm, chain_type=\"map_reduce\")\n",
        "\n",
        "    summary = chain.run(docs)\n",
        "    return summary\n",
        "\n",
        "# Extract Key Insights\n",
        "def extract_key_insights(summary):\n",
        "    prompt = f\"\"\"\n",
        "    Extract key insights for an investor evaluating the company from this summary:\n",
        "    {summary}\n",
        "\n",
        "    Identify:\n",
        "    - Future growth prospects\n",
        "    - Key business changes\n",
        "    - Triggers impacting next year's earnings\n",
        "    - Material effects on future growth\n",
        "\n",
        "    Format it as a structured list.\n",
        "    \"\"\"\n",
        "\n",
        "    llm = ChatOpenAI(model_name=\"gpt-4\", temperature=0.3)\n",
        "    response = llm.predict(prompt)\n",
        "\n",
        "    return response\n",
        "\n",
        "# Main Execution\n",
        "pdf_path = \"C:/Users/Praveen Kumar/Desktop/Assignment/SJS Transcript Call.pdf\"  # Upload the PDF in Colab\n",
        "text = extract_text_from_pdf(pdf_path)\n",
        "summary = summarize_text(text)\n",
        "insights = extract_key_insights(summary)\n",
        "\n",
        "# Display Results\n",
        "print(\"### Summary of the Transcript ###\\n\")\n",
        "print(summary)\n",
        "\n",
        "print(\"\\n### Key Investor Insights ###\\n\")\n",
        "print(insights)\n"
      ],
      "metadata": {
        "id": "fu6NaolN7x2m"
      },
      "execution_count": null,
      "outputs": []
    },
    {
      "cell_type": "markdown",
      "source": [
        "#output"
      ],
      "metadata": {
        "id": "iR0LoPNA79M1"
      }
    },
    {
      "cell_type": "code",
      "execution_count": null,
      "metadata": {
        "id": "kdrQEmWo7t1s"
      },
      "outputs": [],
      "source": [
        "### Summary of the Transcript ###\n",
        "\n",
        "SJS Enterprises has reported a strong Q1 FY 2023-24, with a 13.6% YoY growth in consolidated revenues, outperforming the automotive industry for the 15th consecutive quarter. The company's recent acquisition of Walter Pack India has enabled expansion into the passenger vehicles and consumer appliances segment. SJS plans to grow its presence in North America and Europe, expecting exports to be a key growth driver. It also aims to diversify its product portfolio, reduce dependence on two-wheelers, and grow in the consumer appliance business through partnerships with companies like Whirlpool. Despite expecting short-term impact on margins due to high initial costs from new ventures, SJS anticipates efficiency improvements in the long run.\n",
        "\n",
        "\n",
        "### Key Investor Insights ###\n",
        "\n",
        "- Future growth prospects:\n",
        "  - SJS Enterprises plans to expand its presence in North America and Europe, with exports expected to be a key growth driver.\n",
        "  - The company aims to grow in the consumer appliance business through partnerships with companies like Whirlpool.\n",
        "  - Despite expecting a short-term impact on margins due to high initial costs from new ventures, the company anticipates efficiency improvements in the long run.\n",
        "\n",
        "- Key business changes:\n",
        "  - SJS Enterprises has recently acquired Walter Pack India, enabling expansion into the passenger vehicles and consumer appliances segment.\n",
        "  - The company plans to diversify its product portfolio and reduce its dependence on two-wheelers.\n",
        "\n",
        "- Triggers impacting next year's earnings:\n",
        "  - The high initial costs from new ventures are expected to have a short-term impact on the company's margins.\n",
        "  - The company's growth in the consumer appliance business, through partnerships with companies like Whirlpool, could potentially impact next year's earnings.\n",
        "\n",
        "- Material effects on future growth:\n",
        "  - The acquisition of Walter Pack India could have a material effect on the company's future growth, as it allows for expansion into new segments.\n",
        "  - The company's plans to diversify its product portfolio and reduce dependence on two-wheelers could also materially affect future growth.\n",
        "  - The planned expansion into North America and Europe could significantly impact the company's future growth.\n",
        "(C:\\Us"
      ]
    }
  ]
}